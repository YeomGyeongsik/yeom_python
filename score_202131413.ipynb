def inputmark() :
    print('ENTER STUDENT ID : ')
    id=int(input())
    print('ENTER EXAM SCORE: ')
    exam=int(input())
    print('ENTER ALL TEST SCORES: ')
    g1=int (input())
    g2=int (input())
    g3=int (input())
    g4=int (input())
    g5=int (input())
    g6=int (input())
    g7=int (input())
    g8=int (input())
    g9=int (input())
    g10=int (input())
    g11=int (input())
    g12=int (input())
    g13=int (input())
    g14=int (input())
    g15=int (input())
    sum=(g1+g2+g3+g4+g5+g6+g7+g8+g9+g10+g11+g12+g13+g14+g15)
    avge=sum/15
    print('TEST AVERAGE IS :' +str(avge))
    print('Final mark is: ',compute_mark(avge,exam))
    print('Letter Grade is: ',getgrade(compute_mark(avge,exam)))
    return avge
def compute_mark(avge,exam) :
    final_mark=0.4*avge+0.6*exam
    return final_mark
def getgrade(final_mark) :
    if 90<=final_mark<=100:
        grade='A'
    elif 80<=final_mark<=89:
        grade='B'
    elif 70<=final_mark<=79:
        grade='C'
    elif 60<=final_mark<=69:
        grade='D'
    else:
        grade='F'
    return grade
inputmark()
